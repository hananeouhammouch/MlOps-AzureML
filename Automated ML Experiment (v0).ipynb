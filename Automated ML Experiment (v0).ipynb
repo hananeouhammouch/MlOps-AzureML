{
 "cells": [
  {
   "cell_type": "code",
   "execution_count": 1,
   "metadata": {
    "gather": {
     "logged": 1598275788035
    }
   },
   "outputs": [
    {
     "name": "stdout",
     "output_type": "stream",
     "text": [
      "Workspace name: quick-starts-ws-131005\n",
      "Azure region: southcentralus\n",
      "Subscription id: d4ad7261-832d-46b2-b093-22156001df5b\n",
      "Resource group: aml-quickstarts-131005\n"
     ]
    }
   ],
   "source": [
    "from azureml.core import Workspace, Experiment\n",
    "\n",
    "#Load the existing workspace , create the experiment and start the logging: \n",
    "ws = Workspace.get(name=\"quick-starts-ws-131005\")\n",
    "exp = Experiment(workspace=ws, name=\"quick-starts-ws-131005\")\n",
    "\n",
    "print('Workspace name: ' + ws.name, \n",
    "      'Azure region: ' + ws.location, \n",
    "      'Subscription id: ' + ws.subscription_id, \n",
    "      'Resource group: ' + ws.resource_group, sep = '\\n')\n",
    "\n",
    "run = exp.start_logging()"
   ]
  },
  {
   "cell_type": "code",
   "execution_count": 2,
   "metadata": {
    "gather": {
     "logged": 1598275788675
    },
    "jupyter": {
     "outputs_hidden": false,
     "source_hidden": false
    },
    "nteract": {
     "transient": {
      "deleting": false
     }
    }
   },
   "outputs": [
    {
     "name": "stdout",
     "output_type": "stream",
     "text": [
      "Creating\n",
      "Succeeded....................\n",
      "AmlCompute wait for completion finished\n",
      "\n",
      "Wait timeout has been reached\n",
      "Current provisioning state of AmlCompute is \"Succeeded\" and current node count is \"0\"\n"
     ]
    }
   ],
   "source": [
    "from azureml.core.compute import ComputeTarget, AmlCompute\n",
    "\n",
    "# Create compute cluster\n",
    "# Use vm_size = \"Standard_D2_V2\" in your provisioning configuration.\n",
    "# max_nodes should be no greater than 4.\n",
    "\n",
    "from azureml.core.compute_target import ComputeTargetException\n",
    "\n",
    "amlcompute_cluster_name = \"cpu-cluster\"\n",
    "\n",
    "try:\n",
    "    aml_compute = ComputeTarget(workspace=ws, name=amlcompute_cluster_name)\n",
    "    print('Found existing cluster, use it.')\n",
    "except ComputeTargetException:\n",
    "    compute_config = AmlCompute.provisioning_configuration(vm_size='STANDARD_DS3_V2',\n",
    "                                                           max_nodes=4)\n",
    "    aml_compute = ComputeTarget.create(ws, amlcompute_cluster_name, compute_config)\n",
    "\n",
    "aml_compute.wait_for_completion(show_output=True , min_node_count = 1, timeout_in_minutes = 2)"
   ]
  },
  {
   "cell_type": "code",
   "execution_count": 3,
   "metadata": {},
   "outputs": [],
   "source": [
    "from azureml.data.dataset_factory import TabularDatasetFactory\n",
    "\n",
    "# Create TabularDataset using TabularDatasetFactory\n",
    "# Data is available at: \n",
    "# \"https://automlsamplenotebookdata.blob.core.windows.net/automl-sample-notebook-data/bankmarketing_train.csv\"\n",
    "\n",
    "path_url = 'https://automlsamplenotebookdata.blob.core.windows.net/automl-sample-notebook-data/bankmarketing_train.csv'\n",
    "ds = TabularDatasetFactory.from_delimited_files(path = path_url)"
   ]
  },
  {
   "cell_type": "code",
   "execution_count": 4,
   "metadata": {
    "gather": {
     "logged": 1598275726969
    },
    "jupyter": {
     "outputs_hidden": false,
     "source_hidden": false
    },
    "nteract": {
     "transient": {
      "deleting": false
     }
    }
   },
   "outputs": [],
   "source": [
    "import pandas as pd\n",
    "ds.to_pandas_dataframe().to_csv(\"./training_dataset.csv\")"
   ]
  },
  {
   "cell_type": "code",
   "execution_count": 5,
   "metadata": {},
   "outputs": [],
   "source": [
    "#Create an experiment in the default workspace\n",
    "experiment = Experiment(ws, \"auto_ml_BM_exp\")\n",
    "\n",
    "#Get the default datastore for the workspace.\n",
    "datastore = ws.get_default_datastore()"
   ]
  },
  {
   "cell_type": "code",
   "execution_count": 6,
   "metadata": {},
   "outputs": [
    {
     "name": "stdout",
     "output_type": "stream",
     "text": [
      "Uploading an estimated of 5 files\n",
      "Uploading ./Automated ML Experiment (v0).ipynb\n",
      "Uploaded ./Automated ML Experiment (v0).ipynb, 1 files out of an estimated total of 5\n",
      "Uploading ./training_dataset.csv\n",
      "Uploaded ./training_dataset.csv, 2 files out of an estimated total of 5\n",
      "Uploading ./.ipynb_aml_checkpoints/Automated ML Experiment (v0)-checkpoint2020-11-19-15-10-48.ipynb\n",
      "Uploaded ./.ipynb_aml_checkpoints/Automated ML Experiment (v0)-checkpoint2020-11-19-15-10-48.ipynb, 3 files out of an estimated total of 5\n",
      "Uploading ./.ipynb_aml_checkpoints/Automated ML Experiment (v0)-checkpoint2020-11-19-15-9-45.ipynb\n",
      "Uploaded ./.ipynb_aml_checkpoints/Automated ML Experiment (v0)-checkpoint2020-11-19-15-9-45.ipynb, 4 files out of an estimated total of 5\n",
      "Uploading ./.ipynb_checkpoints/Automated ML Experiment (v0)-checkpoint.ipynb\n",
      "Uploaded ./.ipynb_checkpoints/Automated ML Experiment (v0)-checkpoint.ipynb, 5 files out of an estimated total of 5\n",
      "Uploaded 5 files\n"
     ]
    },
    {
     "data": {
      "text/plain": [
       "$AZUREML_DATAREFERENCE_0b0d730a9b7e4731ba4538496917423e"
      ]
     },
     "execution_count": 6,
     "metadata": {},
     "output_type": "execute_result"
    }
   ],
   "source": [
    "#Upload the training dataset to the datastore \n",
    "datastore.upload(src_dir = \"./\", target_path = \"data/\")\n"
   ]
  },
  {
   "cell_type": "code",
   "execution_count": 7,
   "metadata": {},
   "outputs": [],
   "source": [
    "# Upload the training data as a tabular dataset \n",
    "training_data = TabularDatasetFactory.from_delimited_files(path = [(datastore, (\"data/training_dataset.csv\"))])\n"
   ]
  },
  {
   "cell_type": "code",
   "execution_count": 8,
   "metadata": {
    "gather": {
     "logged": 1598275665403
    },
    "jupyter": {
     "outputs_hidden": false,
     "source_hidden": false
    },
    "nteract": {
     "transient": {
      "deleting": false
     }
    }
   },
   "outputs": [],
   "source": [
    "from azureml.train.automl import AutoMLConfig\n",
    "# Set parameters for AutoMLConfig\n",
    "\n",
    "\n",
    "automl_config = AutoMLConfig(\n",
    "    experiment_timeout_minutes=15,\n",
    "    task=\"classification\",\n",
    "    primary_metric=\"AUC_weighted\",\n",
    "    compute_target=aml_compute,\n",
    "    training_data=training_data,\n",
    "    n_cross_validations= 5,\n",
    "    max_concurrent_iterations= 3,\n",
    "    label_column_name=\"y\")\n"
   ]
  },
  {
   "cell_type": "code",
   "execution_count": 9,
   "metadata": {
    "jupyter": {
     "outputs_hidden": false,
     "source_hidden": false
    },
    "nteract": {
     "transient": {
      "deleting": false
     }
    }
   },
   "outputs": [
    {
     "name": "stdout",
     "output_type": "stream",
     "text": [
      "Running on remote.\n",
      "No run_configuration provided, running on cpu-cluster with default configuration\n",
      "Running on remote compute: cpu-cluster\n",
      "Parent Run ID: AutoML_aa66ce2f-ee15-43ad-b37a-1170628bbad5\n",
      "\n",
      "Current status: FeaturesGeneration. Generating features for the dataset.\n",
      "Current status: DatasetFeaturization. Beginning to fit featurizers and featurize the dataset.\n",
      "Current status: DatasetCrossValidationSplit. Generating individually featurized CV splits.\n",
      "Current status: ModelSelection. Beginning model selection.\n",
      "\n",
      "****************************************************************************************************\n",
      "DATA GUARDRAILS: \n",
      "\n",
      "TYPE:         Class balancing detection\n",
      "STATUS:       ALERTED\n",
      "DESCRIPTION:  To decrease model bias, please cancel the current run and fix balancing problem.\n",
      "              Learn more about imbalanced data: https://aka.ms/AutomatedMLImbalancedData\n",
      "DETAILS:      Imbalanced data can lead to a falsely perceived positive effect of a model's accuracy because the input data has bias towards one class.\n",
      "+---------------------------------+---------------------------------+--------------------------------------+\n",
      "|Size of the smallest class       |Name/Label of the smallest class |Number of samples in the training data|\n",
      "+=================================+=================================+======================================+\n",
      "|3692                             |yes                              |32950                                 |\n",
      "+---------------------------------+---------------------------------+--------------------------------------+\n",
      "\n",
      "****************************************************************************************************\n",
      "\n",
      "TYPE:         Missing feature values imputation\n",
      "STATUS:       PASSED\n",
      "DESCRIPTION:  No feature missing values were detected in the training data.\n",
      "              Learn more about missing value imputation: https://aka.ms/AutomatedMLFeaturization\n",
      "\n",
      "****************************************************************************************************\n",
      "\n",
      "TYPE:         High cardinality feature detection\n",
      "STATUS:       PASSED\n",
      "DESCRIPTION:  Your inputs were analyzed, and no high cardinality features were detected.\n",
      "              Learn more about high cardinality feature handling: https://aka.ms/AutomatedMLFeaturization\n",
      "\n",
      "****************************************************************************************************\n",
      "\n",
      "****************************************************************************************************\n",
      "ITERATION: The iteration being evaluated.\n",
      "PIPELINE: A summary description of the pipeline being evaluated.\n",
      "DURATION: Time taken for the current iteration.\n",
      "METRIC: The result of computing score on the fitted pipeline.\n",
      "BEST: The best observed score thus far.\n",
      "****************************************************************************************************\n",
      "\n",
      " ITERATION   PIPELINE                                       DURATION      METRIC      BEST\n",
      "         2   MaxAbsScaler RandomForest                      0:00:57       0.9082    0.9082\n",
      "         0   MaxAbsScaler LightGBM                          0:00:57       0.9489    0.9489\n",
      "         4   MaxAbsScaler RandomForest                      0:00:57       0.8850    0.9489\n",
      "         3   MaxAbsScaler RandomForest                      0:02:03       0.8940    0.9489\n",
      "         5   MaxAbsScaler ExtremeRandomTrees                0:00:51       0.9067    0.9489\n",
      "         1   MaxAbsScaler XGBoostClassifier                 0:02:31       0.9468    0.9489\n",
      "         6   MaxAbsScaler ExtremeRandomTrees                0:00:57       0.8906    0.9489\n",
      "         7   MaxAbsScaler ExtremeRandomTrees                0:00:52       0.8413    0.9489\n",
      "         8   MaxAbsScaler RandomForest                      0:00:46       0.8905    0.9489\n",
      "         9   MaxAbsScaler ExtremeRandomTrees                0:00:52       0.8177    0.9489\n",
      "        10   MaxAbsScaler RandomForest                      0:00:52       0.8500    0.9489\n",
      "        11   MaxAbsScaler RandomForest                      0:00:46       0.8850    0.9489\n",
      "        12   MaxAbsScaler RandomForest                      0:00:52       0.8473    0.9489\n",
      "        13   StandardScalerWrapper XGBoostClassifier        0:00:52       0.9376    0.9489\n",
      "        14   MaxAbsScaler RandomForest                      0:00:55       0.9011    0.9489\n",
      "        15   StandardScalerWrapper ExtremeRandomTrees       0:01:15       0.8787    0.9489\n",
      "        17   MaxAbsScaler ExtremeRandomTrees                0:00:58       0.8215    0.9489\n",
      "        16   MaxAbsScaler ExtremeRandomTrees                0:01:15       0.8599    0.9489\n",
      "        18   MaxAbsScaler RandomForest                      0:00:52       0.8527    0.9489\n",
      "        19   MaxAbsScaler LightGBM                          0:00:46       0.9222    0.9489\n",
      "        20   StandardScalerWrapper XGBoostClassifier        0:01:39       0.9466    0.9489\n",
      "        21   StandardScalerWrapper XGBoostClassifier        0:01:23       0.9471    0.9489\n",
      "        22   StandardScalerWrapper XGBoostClassifier        0:01:26       0.9462    0.9489\n",
      "        24   MaxAbsScaler LightGBM                          0:00:48       0.9415    0.9489\n",
      "        25   MaxAbsScaler LightGBM                          0:00:42       0.9330    0.9489\n",
      "        23   MaxAbsScaler ExtremeRandomTrees                0:01:50       0.8480    0.9489\n",
      "        27   StandardScalerWrapper XGBoostClassifier        0:01:07       0.9440    0.9489\n",
      "        26   StandardScalerWrapper XGBoostClassifier        0:01:17       0.9470    0.9489\n",
      "        28   StandardScalerWrapper XGBoostClassifier        0:01:03       0.9485    0.9489\n",
      "        30   MaxAbsScaler LightGBM                          0:00:49       0.9116    0.9489\n",
      "        31   StandardScalerWrapper XGBoostClassifier        0:00:40          nan    0.9489\n",
      "        29   MaxAbsScaler LightGBM                          0:01:05       0.9484    0.9489\n",
      "        32    VotingEnsemble                                0:01:44       0.9499    0.9499\n",
      "        33    StackEnsemble                                 0:01:51       0.9499    0.9499\n"
     ]
    }
   ],
   "source": [
    "\n",
    "# Submit your automl run\n",
    "auto_ml_run = experiment.submit(config = automl_config, show_output = True)\n"
   ]
  },
  {
   "cell_type": "code",
   "execution_count": null,
   "metadata": {},
   "outputs": [],
   "source": []
  }
 ],
 "metadata": {
  "kernel_info": {
   "name": "python3-azureml"
  },
  "kernelspec": {
   "display_name": "Python 3.6 - AzureML",
   "language": "python",
   "name": "python3-azureml"
  },
  "language_info": {
   "codemirror_mode": {
    "name": "ipython",
    "version": 3
   },
   "file_extension": ".py",
   "mimetype": "text/x-python",
   "name": "python",
   "nbconvert_exporter": "python",
   "pygments_lexer": "ipython3",
   "version": "3.6.9"
  },
  "nteract": {
   "version": "nteract-front-end@1.0.0"
  }
 },
 "nbformat": 4,
 "nbformat_minor": 2
}
